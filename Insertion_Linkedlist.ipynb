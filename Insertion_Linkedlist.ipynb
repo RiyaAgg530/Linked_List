{
 "cells": [
  {
   "cell_type": "code",
   "execution_count": 8,
   "id": "84974cc4",
   "metadata": {},
   "outputs": [],
   "source": [
    "class Node:\n",
    "    def __init__(self,data):\n",
    "        self.data = data\n",
    "        self.next = None\n",
    "        \n",
    "def takeInput():\n",
    "    input_list = [int(ele) for ele in input().split()]\n",
    "    head = None\n",
    "    tail = None\n",
    "    for currData in input_list:\n",
    "        if currData == -1:\n",
    "            break\n",
    "        newNode = Node(currData)\n",
    "        if head is None:\n",
    "            head = newNode\n",
    "            tail = newNode\n",
    "        else:\n",
    "            tail.next = newNode\n",
    "            tail = newNode\n",
    "    return head\n",
    "    \n",
    "def printLL(head):\n",
    "    while head is not None:\n",
    "        print(str(head.data)+\"->\",end='')\n",
    "        head = head.next\n",
    "    print(\"None\")\n",
    "    return\n",
    "    \n",
    "def length(head):\n",
    "    count = 0\n",
    "    while head is not None:\n",
    "        count = count+1\n",
    "        head = head.next\n",
    "    return count\n",
    "    \n",
    "def insert(head,i,element):\n",
    "    if i<0:\n",
    "        return head\n",
    "    if i==0:\n",
    "        newNode = Node(element)\n",
    "        newNode.next = head\n",
    "        return newNode\n",
    "    smallHead = insert(head.next,i-1,element)\n",
    "    head.next = smallHead\n",
    "    return head"
   ]
  },
  {
   "cell_type": "code",
   "execution_count": 12,
   "id": "e940e24b",
   "metadata": {},
   "outputs": [
    {
     "name": "stdout",
     "output_type": "stream",
     "text": [
      "1 2 3 4 5 -1\n",
      "1->2->3->4->5->None\n",
      "8->1->2->3->4->5->None\n",
      "8->1->2->3->4->5->9->None\n",
      "8->1->2->7->3->4->5->9->None\n"
     ]
    }
   ],
   "source": [
    "head = takeInput()\n",
    "printLL(head)\n",
    "head = insert(head,0,8)\n",
    "printLL(head)\n",
    "head = insert(head,6,9)\n",
    "printLL(head)\n",
    "head = insert(head,3,7)\n",
    "printLL(head)"
   ]
  },
  {
   "cell_type": "code",
   "execution_count": null,
   "id": "5728754c",
   "metadata": {},
   "outputs": [],
   "source": []
  }
 ],
 "metadata": {
  "kernelspec": {
   "display_name": "Python 3 (ipykernel)",
   "language": "python",
   "name": "python3"
  },
  "language_info": {
   "codemirror_mode": {
    "name": "ipython",
    "version": 3
   },
   "file_extension": ".py",
   "mimetype": "text/x-python",
   "name": "python",
   "nbconvert_exporter": "python",
   "pygments_lexer": "ipython3",
   "version": "3.11.1"
  }
 },
 "nbformat": 4,
 "nbformat_minor": 5
}
